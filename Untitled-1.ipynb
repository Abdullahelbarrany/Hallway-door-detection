{
 "cells": [
  {
   "cell_type": "code",
   "execution_count": null,
   "metadata": {},
   "outputs": [],
   "source": [
    "from ultralytics import YOLO\n",
    "\n",
    "# Load a pretrained YOLOv11 model\n",
    "model = YOLO('yolo11n.pt')  # Replace with the path to your YOLOv11 model\n",
    "\n",
    "# Train the model\n",
    "model.train(\n",
    "    data='/path/to/your/dataset/dataset.yaml',  # Path to the dataset configuration file\n",
    "    epochs=50,  # Number of training epochs\n",
    "    imgsz=640,  # Image size\n",
    "    batch=16,  # Batch size\n",
    "    device=0  # GPU device (use 'cpu' if no GPU is available)\n",
    ")\n"
   ]
  }
 ],
 "metadata": {
  "language_info": {
   "name": "python"
  }
 },
 "nbformat": 4,
 "nbformat_minor": 2
}
